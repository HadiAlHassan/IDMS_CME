{
 "cells": [
  {
   "cell_type": "code",
   "execution_count": 10,
   "metadata": {},
   "outputs": [],
   "source": [
    "import chromadb\n",
    "from llama_index.vector_stores.chroma import ChromaVectorStore\n",
    "from llama_index.core import StorageContext\n",
    "import nest_asyncio\n",
    "import os\n",
    "from dotenv import load_dotenv\n",
    "from llama_parse import LlamaParse\n",
    "from llama_index.llms.cohere import Cohere\n",
    "from llama_index.core import SimpleDirectoryReader\n",
    "from llama_index.core import Settings\n",
    "from llama_index.core import VectorStoreIndex\n",
    "from llama_index.core import SummaryIndex\n",
    "from llama_index.embeddings.cohere.base import CohereEmbedding\n",
    "from llama_index.postprocessor.cohere_rerank import CohereRerank\n",
    "from llama_index.core.indices.prompt_helper import PromptHelper\n",
    "from llama_index.core.node_parser import HierarchicalNodeParser\n",
    "from llama_index.core.node_parser import SentenceSplitter\n",
    "from llama_index.core import StorageContext, load_index_from_storage\n",
    "import tempfile\n",
    "\n",
    "nest_asyncio.apply()\n",
    "\n",
    "load_dotenv()\n",
    "\n",
    "llama_cloud_api_key = os.getenv(\"LLAMA_CLOUD_API_KEY\")\n",
    "cohere_api_key = os.getenv(\"COHERE_API_KEY\")\n",
    "\n",
    "parsing_prompt = \"You are a legal document parses for an intelligent document management system.\\\n",
    "                Extract all relevant details from the document, in anticipation of a search query related to any detail.\"\n",
    "\n",
    "parser = LlamaParse(result_type = \"markdown\",  \n",
    "    api_key = llama_cloud_api_key,\n",
    "    parsing_instruction = parsing_prompt\n",
    ")\n"
   ]
  },
  {
   "cell_type": "code",
   "execution_count": 2,
   "metadata": {},
   "outputs": [
    {
     "name": "stdout",
     "output_type": "stream",
     "text": [
      "Renamed file path: C:\\Users\\HADIAL~1\\AppData\\Local\\Temp\\GRAHAM_v._STATE_OF_WEST_VIRGINIA..txt\n",
      "File exists: True\n"
     ]
    }
   ],
   "source": [
    "\n",
    "# Create a temporary file\n",
    "with tempfile.NamedTemporaryFile(delete=False) as temp_file:\n",
    "    temp_file_path = temp_file.name\n",
    "    # Write to the temporary file\n",
    "    temp_file.write(\"\"\"\"224 U.S. 616 (1912)\n",
    "GRAHAM\n",
    "v.\n",
    "STATE OF WEST VIRGINIA.\n",
    "No. 721.\n",
    "Supreme Court of United States.\n",
    "Argued April 17, 1912.\n",
    "Decided May 13, 1912.\n",
    "ERROR TO THE SUPREME COURT OF APPEALS OF THE STATE OF WEST VIRGINIA.\n",
    "*617 Mr. D.W. Baker, with whom Mr. Frank J. Hogan, Mr. Everett F. Moore and Mr. D.B. Evans were on the brief, for plaintiff in error.\n",
    "Mr. William G. Conley, Attorney General of the State of West Virginia, for defendant in error.\n",
    "*620 MR. JUSTICE HUGHES delivered the opinion of the court.\n",
    "In April, 1898, the plaintiff in error, James H. Graham, then known as John H. Ratliff, was indicted for grand larceny in Pocahontas County. West Virginia, pleaded guilty, and was sentenced to the penitentiary for two years. In April, 1901, under the name of Ratliff, he was indicted for burglary in Pocahontas County, West Virginia, pleaded guilty and was sentenced to the penitentiary for ten years. In October, 1906, he was granted a parole by the Governor of West Virginia upon condition that he should pursue the course of a law abiding citizen. In September, 1907, under the name of John H. Graham, *621 alias J.H. Gray, he was indicted in Wood County, West Virginia, for grand larceny, pleaded guilty and was sentenced to the penitentiary for five years.\n",
    "In February, 1908, the prosecuting attorney for Marshall County, in which the penitentiary was located, presented an information to the circuit court of that county alleging that the convict Graham was the same man who had twice before been convicted as above stated. Graham was brought before the court, and pleaded that he was not the same person. Later he withdrew his plea, moved to quash the information, and on denial of the motion renewed the plea. A jury was called, and after hearing evidence for the prosecutor, the defendant offering none, returned a verdict identifying him as the person previously convicted. Thereupon the defendant moved for arrest of judgment upon the ground that the proceeding was in violation of the constitution of the State, and also contrary to the Fifth and Fourteenth Amendments of the Constitution of the United States. The motion was overruled and the court sentenced the prisoner to confinement in the penitentiary for life. The judgment was affirmed by the Supreme Court of Appeals of West Virginia. State v. Graham, 68 W. Va. 248. And the case comes here on error.\n",
    "The proceeding was taken under §§ 1 to 5 of chapter 165 of the Code of West Virginia, which are as follows:\n",
    "\"1. All criminal proceedings against convicts in the penitentiary shall be in the circuit court of the county of Marshall.\n",
    "\"2. When a prisoner convicted of an offense, and sentenced to confinement therefor in the penitentiary, is received therein, if he was before sentenced to a like punishment, and the record of his conviction does not show that he has been sentenced under the twenty-third or twenty-fourth section of chapter one hundred and fifty-two, the superintendent of the penitentiary shall give *622 information thereof, without delay, to the said circuit court of the county of Marshall, whether it be alleged or not in the indictment on which he was so convicted, that he had been before sentenced to a like punishment.\n",
    "\"3. The said court shall cause the convict to be brought before it, and upon an information filed, setting forth the several records of conviction, and alleging the identity of the prisoner with the person named in each, shall require the convict named to say whether he is the same person or not.\n",
    "\"4. If he say he is not, or remain silent, his plea, or the fact of his silence, shall be entered of record, and a jury shall be empaneled to inquire whether the convict is the same person mentioned in the several records.\n",
    "\"5. If the jury find that he is not the same person, he shall be remanded to the penitentiary; but if they find that he is the same person, or if he acknowledge in open court, after being duly cautioned, that he is the same person, the court shall sentence him to such further confinement as is prescribed by chapter one hundred and fifty-two, on a second or third conviction, as the case may be.\"\n",
    "The provisions of § 23 and 24 of chapter 152, to which the above statute refers, are:\n",
    "\"23. When any person is convicted of an offence and sentenced to confinement therefor in the penitentiary, and it is alleged in the indictment on which he is convicted, and admitted, or by the jury found, that he had been before sentenced in the United States to a like punishment, he shall be sentenced to be confined five years in addition to the time to which he is or would be otherwise sentenced.\n",
    "\"24. When any such convict shall have been twice before sentenced in the United States to confinement in a penitentiary, he shall be sentenced to be confined in the penitentiary for life.\"\n",
    "*623 These statutes were derived from the laws which were in force in Virginia before West Virginia was created and formed part of the Code of Virginia of 1860, c. 199, which in turn had been taken from the Code of 1849, c. 199.\n",
    "The plaintiff in error challenges the validity of the legislation and the proceedings which it authorized, upon the grounds (1) that he has been deprived of his liberty without due process of law; (2) that he has been denied the equal protection of the laws; (3) that his privileges and immunities as a citizen of the United States have been abridged, and that he has been denied his immunity from double jeopardy; and (4) that cruel and unusual punishment has been inflicted.\n",
    "1. The propriety of inflicting severer punishment upon old offenders has long been recognized in this country and in England. They are not punished the second time for the earlier offense, but the repetition of criminal conduct aggravates their guilt and justifies heavier penalties when they are again convicted. Statutes providing for such increased punishment were enacted in Virginia and New York as early as 1796, and in Massachusetts in 1804; and there have been numerous acts of similar import in many States. This legislation has uniformly been sustained in the state courts (Ross's Case, 2 Pick. 165, 170; Plumbly v. Commonwealth, 2 Met. 413, 415; Commonwealth v. Richardson, 175 Massachusetts, 202, 205; Rand v. Commonwealth, 9 Gratt. 738, 740, 741; King v. Lynn, 90 Virginia, 345, 347; People v. Stanley, 47 California, 113; People v. Coleman, 145 California, 609; Ingalls v. State, 48 Wisconsin, 647; McGuire v. State, 47 Maryland, 485; State v. Austin, 113 Missouri, 538), and it has been held by this court not to be repugnant to the Federal Constitution. Moore v. Missouri, 159 U.S. 673; McDonald v. Massachusetts, 180 U.S. 311.\n",
    "In the McDonald Case, the statute (Mass. St. 1887, c. 435, § 1) provided that whenever one had been twice *624 convicted of crime and committed to prison in Massachusetts, or in any other State, he should, upon conviction of a subsequent felony, be deemed to be an \"habitual criminal\" and should be punished by imprisonment for twenty-five years. In delivering the opinion of the court. Mr. Justice Gray said (p. 312):\n",
    "\"The fundamental mistake of the plaintiff in error is his assumption that the judgment below imposes an additional punishment on crimes for which he had already been convicted and punished in Massachusetts and in New Hampshire.\n",
    "\"But it does no such thing. . . . The punishment is for the new crime only, but is the heavier if he is an habitual criminal.. . . The allegation of previous convictions is not a distinct charge of crimes, but is necessary to bring the case within the statute, and goes to the punishment only.\"\n",
    "In the present case, it was not charged in the indictment on which the prisoner was last tried that he had previously been convicted of other offenses, but after judgment he was brought before the court of another county, in a separate proceeding instituted by information, and on the finding of the jury that he was the former convict he was sentenced to the additional punishment which the statute in such case prescribed.\n",
    "By this proceeding he was not held to answer for an offense; the information did not allege crime. As was said by the Supreme Court of Appeals of West Virginia: \"It (the information) alleges that he has been held to answer for crime and that he stands convicted of it through the indictment of the grand jury. It points him out as a convict already held, upon whom rests the general sentence of the law of life imprisonment. . . . The proceedings under the statute are for identification only. They are clearly not for the establishment of guilt. The question of guilt is not reopened.\" State v. Graham, *625 68 W. Va. 248, 251. Full opportunity was accorded to the prisoner to meet the allegation of former conviction. Plainly, the statute contemplated a valid conviction which had not been set aside or the consequences of which had not been removed by absolute pardon. No question as to this can be raised here, for the prisoner in no way sought to contest the validity or unimpaired character of the former judgments, but pleaded that he was not the person who had thus been convicted. On this issue he had due hearing before a jury.\n",
    "It cannot be said that the prisoner was deprived of due process of law because the question as to former conviction was passed upon separately. While it is familiar practice to set forth in the indictment the fact of prior conviction of another offense, and to submit to the jury the evidence upon that issue together with that relating to the commission of the crime which the indictment charges, still in its nature it is a distinct issue, and it may appropriately be the subject of separate determination. Provision for a separate, and subsequent, determination of his identity with the former convict has not been regarded as a deprivation of any fundamental right. It was established by statute in England that, although the fact was alleged in the indictment, the evidence of the former conviction should not be given to the jury until they had found their verdict on the charge of crime. The act of 6 and 7 Will. IV, c. 111, provided that it should \"not be lawful on the trial of any person for any such subsequent felony to charge the jury to inquire concerning such previous conviction until after they shall have inquired concerning such subsequent felony, and shall have found such person guilty of the same; and whenever in any indictment such previous conviction shall be stated, the reading of such statement to the jury as part of the indictment shall be deferred until after such finding as aforesaid.\" Exception was made in cases where the accused gave evidence *626 of good character to meet the charge of crime, whereupon the prosecutor might show the former conviction before the verdict of guilty had been returned. And in Regina v. Shuttleworth, 3 C. & K. 375, 376, Lord Campbell thus stated the practice under the statute: \"It is the opinion of all the judges  The prisoner is to be arraigned on the whole indictment, and the jury are to have the new charge only stated to them; and if no evidence is given as to character, nothing is to be read to the jury of the previous conviction till the jury have given a verdict as to the new charge. The jury, without being resworn, are then to have the previous convictions stated to them; and the certificate of it is to be put in, and the prisoner's identity proved.\" See 24 & 25 Vict., c. 96, § 116.\n",
    "If a State adopts the policy of imposing heavier punishment for repeated offending, there is manifest propriety in guarding against the escape from this penalty of those whose previous conviction was not suitably made known to the court at the time of their trial. Otherwise, criminals who change their place of operation and successfully conceal their identity would be punished simply as first offenders, although on entering prison they would immediately be recognized as former convicts. It is to prevent such a frustration of its policy that provision is made for alternative methods; either by alleging the fact of prior conviction in the indictment and showing it upon the trial, or by a subsequent proceeding in which the identity of the prisoner may be ascertained and he may be sentenced to the full punishment fixed by law. Plumbly v. Commonwealth, 2 Met. 413, 415, per Shaw, C.J. In the latter proceeding, as well as in the former, the fundamental rights of the defendant with respect to the ascertainment of his liability to the increased penalty may be fully protected.\n",
    "Nor is there any reason why such a proceeding should not be prosecuted upon an information presented by a *627 competent public officer on his oath of office. There is no occasion for an indictment. To repeat, the inquiry is not into the commission of an offense; as to this, indictment has already been found and the accused convicted. There remains simply the question as to the fact of previous conviction. And it cannot be contended, that in proceeding by information instead of by indictment there is any violation of the requirement of due process of law. Hurtado v. California, 110 U.S. 516; Brown v. New Jersey, 175 U.S. 172, 175; Maxwell v. Dow, 176 U.S. 581, 584.\n",
    "The principles governing a proceeding of this sort, to inquire into the fact of prior conviction, were stated in Ross's Case (1824), 2 Pick. 165, 169-171. The legislature of Massachusetts (St. 1817, c. 176, approved February 23, 1818) had provided for increased punishment upon second and third convictions. Reciting that the previous conviction might not be known to the grand jury or to the attorney for the commonwealth at the time of the indictment and trial, the statute contained the following provision closely resembling the one now under consideration:\n",
    "\"That whenever it shall appear to the Warden of the State Prison, . . . that any convict, received into the same, pursuant to the sentence of any Court, shall have before been sentenced, by competent authority of this or any other state, to confinement to hard labor for term of life or years, it shall be the duty of the said Warden, . . . to make representation thereof, as soon as may be, to the Attorney or Solicitor General; and they or either of them shall, by information, or other legal process, cause the same to be made known to the Justices of the Supreme Judicial Court, . . . and the said Justices shall cause the person or persons, so informed against, to be brought before them, in order, that if he deny the fact of a former conviction, it may be tried according to law, whether the charge contained in such *628 information be true. And if it appear by the confession of the party, by verdict of the jury, or otherwise, according to law, that said information is true, the Court shall forthwith proceed to award against such convict, the residue of the punishment provided in the foregoing section; otherwise the said convict shall be remanded to prison, there to be held on his former sentence.\" (Laws of Mass. 1815-1818, pp. 602, 603.) Ross, then undergoing sentence for five years was brought before the court pursuant to such an information, and his term of imprisonment was increased. In sustaining this sentence, the court, by Parker, C.J., said (p. 171):\n",
    "\"In regard to the objection made to the process, this is not an information of an offence for which a trial is to be had, but of a fact, namely, that the prisoner has already been convicted of an offence; and this fact must appear, either by his own confession, or by verdict of a jury, or otherwise according to law, before he can be sentenced to the additional punishment. Is he to be sentenced for an offence distinct from the one for which he has been tried upon an indictment? We apprehend not; but the only question is, whether he is such a person as ought to have been sentenced, on his last conviction, to additional punishment, if the fact of a former conviction had been known to the court. There was no need of a presentment by a grand jury, for no offence was to be inquired into. That had been already done. An indictment is confined to the question whether an offence has been committed. Here the question was simply whether the party had been convicted of an offence.\n",
    "\"It is said, that at common law both offences should be stated in the same count. The question upon this is, whether the legislature had not a right to prescribe a different mode; and we think they had.\"\n",
    "In the case at bar, the record is silent upon the question whether the fact of the former convictions was known *629 at the time of the last indictment and trial. This, however, cannot be regarded as important from the constitutional standpoint. The indictment did not allege the prior convictions; the issue was not involved in the trial of the indictment and the court could not have considered these convictions in imposing sentence. State v. Davis, 68 W. Va. 142, 150, 151. They were not considered until the subsequent proceeding was had. Doubtless, as has been said, the object in providing the alternative proceeding is to make sure that old offenders should not be immune from the increased punishment because their former conviction was not known when they were last tried. But this does not define the limit of state power. Although the State may properly provide for the allegation of the former conviction in the indictment, for a finding by the jury on this point in connection with its verdict as to guilt and thereupon for the imposition of the full sentence prescribed, there is no constitutional mandate which requires the State to adopt this course even where the former conviction is known. It may be convenient practice, but it is not obligatory. This conclusion necessarily follows from the distinct nature of the issue and from the fact, so frequently stated, that it does not relate to the commission of the offense, but goes to the punishment only, and therefore it may be subsequently decided.\n",
    "2. It is insisted that the plaintiff in error was denied the equal protection of the laws, in that the statute arbitrarily discriminates against the former convict  in a case like the present one  by requiring an information, instead of indictment, for the sole reason that he has been received into the penitentiary; so that, as the plaintiff in error puts it, \"if he be out of the penitentiary, the defendant must be prosecuted by indictment in order to inflict the increased penalty, but if he be in the penitentiary, he is denied the right to indictment and must be prosecuted by information.\"\n",
    "*630 The argument is without merit. The statute in question applies to all those \"convicted of an offense, and sentenced to confinement therefor in the penitentiary,\" who previously have been sentenced to a like punishment. The fact of such sentence, indicating the gravity of the offense, affords a reasonable basis for classification. Those who have been so sentenced once before, and those who have been so sentenced twice before, are subjected, respectively, to the same measure of increased punishment. In all cases, before the increased punishment can be inflicted, there must be conviction on the new charge; the former conviction must be shown, and there must be a finding by a jury, if the fact is contested, of the identity of the defendant with the former convict. The distinction, upon which the contention is based, has regard simply to the difference in procedure between the case where the fact of former conviction is alleged in the indictment, and determined by the jury on the trial of the charge of crime, and the case where it is charged in the information and determined by a jury in a proceeding thereby instituted. This, in view of the nature of the issue to be determined, cannot be said to give rise to a substantial difference in right or to any inequality within the meaning of the constitutional provision.\n",
    "The Fourteenth Amendment is not to be construed \"as introducing a factitious equality without regard to practical differences that are best met by corresponding differences of treatment.\" Standard Oil Company v. Tennessee, 217 U.S. 413, 420. A State may make different arrangements for trials under different circumstances of even the same class of offenses (Brown v. New Jersey, 175 U.S. 172, 177; Missouri v. Lewis, 101 U.S. 22, 31; Hayes v. Missouri, 120 U.S. 68, 71; Lang v. New Jersey, 209 U.S. 467); and certainly it may suitably adapt to the exigency the method of determining whether a person found guilty of crime has previously been convicted of *631 other offenses. All who were in like case with the plaintiff in error were subject to the same procedure. He belonged to a class of persons convicted and sentenced to the penitentiary whose identity as former convicts had not been determined at the time of their trial. As to these, it was competent for the State to provide appropriate means for determining such identity.\n",
    "3. What has been said, and the authorities which have been cited, sufficiently show that there is no basis for the contention that the plaintiff in error has been put in double jeopardy or that any of his privileges or immunities as a citizen of the United States have been abridged. Nor can it be maintained that cruel and unusual punishment has been inflicted. In re Kemmler, 136 U.S. 436; Moore v. Missouri, supra; McDonald v. Massachusetts, supra; Howard v. North Carolina, 191 U.S. 126; Coffey v. Harlan County, 204 U.S. 659; Waters-Pierce Oil Co. v. Texas, 212 U.S. 86, 111.\n",
    "The questions raised under the constitution of the State are not open here, and in no aspect of the case does it appear that any right of the plaintiff in error under the Constitution of the United States has been infringed.\n",
    "Judgment affirmed.\"\"\".encode('utf-8'))\n",
    "\n",
    "# Define new file name\n",
    "new_file_name = \"GRAHAM_v._STATE_OF_WEST_VIRGINIA..txt\"\n",
    "new_file_path = os.path.join(os.path.dirname(temp_file_path), new_file_name)\n",
    "\n",
    "# Rename the file\n",
    "os.rename(temp_file_path, new_file_path)\n",
    "\n",
    "# Verify that the file exists with the new name\n",
    "print(f\"Renamed file path: {new_file_path}\")\n",
    "print(f\"File exists: {os.path.exists(new_file_path)}\")\n"
   ]
  },
  {
   "cell_type": "code",
   "execution_count": 12,
   "metadata": {},
   "outputs": [
    {
     "name": "stdout",
     "output_type": "stream",
     "text": [
      "Started parsing the file under job_id cac11eca-c022-4101-b8ee-22ea86a81934\n"
     ]
    }
   ],
   "source": [
    "# load some documents\n",
    "file_extractor = {\".txt\": parser}\n",
    "\n",
    "#assume we loaded it from the mongodb\n",
    "documents = SimpleDirectoryReader(input_files=[\"GRAHAM_v._STATE_OF_WEST_VIRGINIA..txt\"new_file_path\"\"],\n",
    "                                file_extractor = file_extractor).load_data()\n",
    "\n",
    "# Clean up by deleting the renamed file\n",
    "os.remove(new_file_path)\n",
    "print(f\"File exists after deletion: {os.path.exists(new_file_path)}\")"
   ]
  },
  {
   "cell_type": "code",
   "execution_count": 4,
   "metadata": {},
   "outputs": [],
   "source": [
    "# initialize client, setting path to save data\n",
    "db = chromadb.PersistentClient(path=\"chroma_db\")"
   ]
  },
  {
   "cell_type": "code",
   "execution_count": 5,
   "metadata": {},
   "outputs": [],
   "source": [
    "\n",
    "# create collection\n",
    "chroma_collection = db.get_or_create_collection(\"documents\")\n",
    "\n",
    "# assign chroma as the vector_store to the context\n",
    "vector_store = ChromaVectorStore(chroma_collection=chroma_collection)\n",
    "storage_context = StorageContext.from_defaults(vector_store=vector_store)"
   ]
  },
  {
   "cell_type": "code",
   "execution_count": 6,
   "metadata": {},
   "outputs": [],
   "source": [
    "#Setting the embedding and feeding to the index\n",
    "embed_model = CohereEmbedding(\n",
    "    api_key = cohere_api_key,\n",
    "    model_name = \"embed-english-v3.0\",\n",
    "    input_type = \"search_document\",\n",
    "    embedding_type = \"int8\",\n",
    ")\n",
    "\n",
    "hierarchical_node_parser = HierarchicalNodeParser.from_defaults(\n",
    "    chunk_sizes=[2048, 1024, 512]\n",
    ")"
   ]
  },
  {
   "cell_type": "code",
   "execution_count": 9,
   "metadata": {},
   "outputs": [
    {
     "data": {
      "text/plain": [
       "[Document(id_='468d5c5a-8eea-417a-81b6-62085fb60824', embedding=None, metadata={'file_path': 'C:\\\\Users\\\\HADIAL~1\\\\AppData\\\\Local\\\\Temp\\\\GRAHAM_v._STATE_OF_WEST_VIRGINIA..txt', 'file_name': 'GRAHAM_v._STATE_OF_WEST_VIRGINIA..txt', 'file_type': 'text/plain', 'file_size': 21741, 'creation_date': '2024-07-05', 'last_modified_date': '2024-07-05'}, excluded_embed_metadata_keys=['file_name', 'file_type', 'file_size', 'creation_date', 'last_modified_date', 'last_accessed_date'], excluded_llm_metadata_keys=['file_name', 'file_type', 'file_size', 'creation_date', 'last_modified_date', 'last_accessed_date'], relationships={}, text=\"#\\n\\n# Document Details\\n\\n# Document Details\\n\\nCitation: 224 U.S. 616 (1912)\\n\\nCase: Graham v. State of West Virginia\\n\\nCase Number: No. 721\\n\\nCourt: Supreme Court of the United States\\n\\nArgued Date: April 17, 1912\\n\\nDecided Date: May 13, 1912\\n\\nPlaintiff in Error: James H. Graham (formerly known as John H. Ratliff)\\n\\nDefendant in Error: State of West Virginia\\n\\nAttorneys:\\n- Mr. D.W. Baker\\n- Mr. Frank J. Hogan\\n- Mr. Everett F. Moore\\n- Mr. D.B. Evans\\n- Mr. William G. Conley (Attorney General of the State of West Virginia)\\n\\nOpinion of the Court: The court sentenced the plaintiff in error to life confinement in the penitentiary.\\n\\nLegal Provisions: The case was governed by sections 1 to 5 of chapter 165 of the Code of West Virginia.\\n---\\n#\\n\\n# Document Details\\n\\n# Document Details\\n\\nStatutes Referenced:\\n\\n- 23. When a person is convicted of an offense and sentenced to confinement in the penitentiary, additional sentencing provisions apply if the individual had prior similar convictions in the United States.\\n- 24. A convict who has been sentenced twice before to confinement in a penitentiary in the United States shall be sentenced to life imprisonment.\\n\\nOrigin of Statutes: The statutes mentioned were derived from the laws in force in Virginia before the creation of West Virginia and were part of the Code of Virginia of 1860.\\n\\nChallenges to Legislation: The plaintiff in error challenges the validity of the legislation and the proceedings authorized by it on various grounds including deprivation of liberty without due process of law, denial of equal protection of the laws, abridgment of privileges and immunities as a U.S. citizen, denial of immunity from double jeopardy, and infliction of cruel and unusual punishment.\\n\\nSeverer Punishment for Old Offenders: The document discusses the recognition of imposing harsher penalties on repeat offenders in the United States and England, with statutes providing for increased punishment for such individuals dating back to the late 18th and early 19th centuries.\\n\\nLegal Precedents: Various state court cases are cited where legislation allowing for increased punishment for repeat offenders has been upheld, along with references to relevant U.S. Supreme Court cases such as Moore v. Missouri and McDonald v. Massachusetts.\\n\\nCase Example - McDonald Case: The document provides details of the McDonald Case where the court clarified that increased punishment for habitual criminals is for the new crime only, not for past convictions.\\n\\nProceedings and Convictions: The document explains a specific case where a prisoner faced additional punishment based on prior convictions, highlighting the process of identification and sentencing under the relevant statute.\\n---\\n#\\n\\n# Legal Document Details\\n\\n# Legal Document Details\\n\\nCase Summary: The document discusses the issue of prior convictions and the process of determining the identity of a defendant with a former convict.\\n\\nKey Points:\\n\\n- The prisoner in the case did not contest the validity of previous judgments but claimed not to be the person convicted.\\n- Separate determination of the issue of prior conviction is considered a distinct issue and does not deprive the defendant of due process of law.\\n- Provision is made for either alleging the prior conviction in the indictment and showing it at trial or conducting a subsequent proceeding to ascertain the identity of the prisoner.\\n- The document references legal statutes and cases to support the procedures followed in such cases.\\n\\nLegal References: The document cites various legal cases and statutes, including Plumbly v. Commonwealth, Regina v. Shuttleworth, Hurtado v. California, Brown v. New Jersey, Maxwell v. Dow, and Ross's Case.\\n---\\n#\\n\\n# Legal Document Details\\n\\n# Legal Document Details\\n\\nConsideration:\\n\\nWhenever a convict received into the State Prison has been sentenced to confinement to hard labor for life or years by competent authority, the Warden is required to report this to the Attorney General or Solicitor General. The Justices of the Supreme Judicial Court will then determine if the convict should receive additional punishment based on the prior conviction.\\n\\nIn a specific case involving Ross, his term of imprisonment was increased based on a prior conviction. The court clarified that the process is not for a new trial but to establish the fact of a previous conviction before imposing additional punishment.\\n\\nThe document discusses the importance of disclosing prior convictions and the discretion of the State in choosing the legal process for such cases.\\n\\nThe plaintiff in error argued that the statute discriminates against former convicts by requiring an information process instead of an indictment, solely based on their current incarceration status.\\n---\\n#\\n\\n# Legal Document\\n\\n# Relevant Details from the Document:\\n\\nStatute in Question: Applies to those convicted of an offense and sentenced to confinement in the penitentiary.\\n\\nBasis for Classification: Previous sentences indicating the gravity of the offense.\\n\\nIncreased Punishment: Applied to those with prior sentences, with distinctions based on the number of previous convictions.\\n\\nProcedure for Increased Punishment: Requires conviction on the new charge, showing of former conviction, and jury finding of defendant's identity.\\n\\nFourteenth Amendment: Not to be construed as introducing artificial equality without regard to practical differences.\\n\\nState's Authority: Allowed to make different arrangements for trials under different circumstances.\\n\\nIdentity Determination: State may provide appropriate means for determining the identity of persons convicted and sentenced to the penitentiary.\\n\\nDouble Jeopardy: No basis for the contention that the plaintiff in error has been put in double jeopardy.\\n\\nPrivileges and Immunities: No abridgment of privileges or immunities as a citizen of the United States.\\n\\nCruel and Unusual Punishment: No indication of cruel and unusual punishment being inflicted.\\n\\nConstitutional Rights: No infringement of the plaintiff in error's rights under the Constitution of the United States.\\n\\nState Constitution: Questions raised under the constitution of the State are not addressed in this document.\\n\\nJudgment: Affirmed.\", mimetype='text/plain', start_char_idx=None, end_char_idx=None, text_template='{metadata_str}\\n\\n{content}', metadata_template='{key}: {value}', metadata_seperator='\\n')]"
      ]
     },
     "execution_count": 9,
     "metadata": {},
     "output_type": "execute_result"
    }
   ],
   "source": [
    "# load your index from stored vectors\n",
    "index = VectorStoreIndex.from_vector_store(\n",
    "    vector_store, storage_context=storage_context,\n",
    "    embed_model=embed_model, \n",
    "    transformations=[hierarchical_node_parser, SentenceSplitter(chunk_size=1024, chunk_overlap=20)]\n",
    ")\n",
    "\n",
    "index.insert(documents[0])\n",
    "documents"
   ]
  },
  {
   "cell_type": "code",
   "execution_count": 8,
   "metadata": {},
   "outputs": [
    {
     "name": "stdout",
     "output_type": "stream",
     "text": [
      "The case of Commonwealth v Graham deals with the statute that applies to those convicted of an offence and sentenced to confinement in the penitentiary. The document outlines the basis for the classification of these crimes, as well as the procedure for increasing the punishment for repeat offenders.\n",
      "\n",
      "The statute's constitutionality was questioned on several grounds, which are addressed in the judgment. It concludes that the Fourteenth Amendment is not relevant in this case, and the state has the authority to make different arrangements for trials under different circumstances. Among other things, the judgment also determines that there is no double jeopardy, and no cruel and unusual punishment involved. The plaintiff's constitutional rights are also found to be unimpeded, and the decision does not infringe on their privileges and immunities as a US citizen.\n"
     ]
    }
   ],
   "source": [
    "#Chunk size\n",
    "Settings.llm = Cohere(api_key = cohere_api_key, model=\"command-r\")\n",
    "Settings.embed_model = embed_model\n",
    "\n",
    "# Create a cohere reranker\n",
    "cohere_rerank = CohereRerank(api_key= cohere_api_key)\n",
    "\n",
    "# Create the query engine\n",
    "query_engine = index.as_query_engine(node_postprocessors=[cohere_rerank])\n",
    "response = query_engine.query(\"explain to me the case of commonwealth v graham?\")\n",
    "print(response)"
   ]
  }
 ],
 "metadata": {
  "kernelspec": {
   "display_name": "idms",
   "language": "python",
   "name": "python3"
  },
  "language_info": {
   "codemirror_mode": {
    "name": "ipython",
    "version": 3
   },
   "file_extension": ".py",
   "mimetype": "text/x-python",
   "name": "python",
   "nbconvert_exporter": "python",
   "pygments_lexer": "ipython3",
   "version": "3.12.3"
  }
 },
 "nbformat": 4,
 "nbformat_minor": 2
}
